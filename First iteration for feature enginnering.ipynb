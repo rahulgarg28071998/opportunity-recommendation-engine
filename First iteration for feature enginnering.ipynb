{
 "cells": [
  {
   "cell_type": "code",
   "execution_count": 1,
   "metadata": {},
   "outputs": [],
   "source": [
    "import pandas as pd\n",
    "import numpy as np\n",
    "import matplotlib.pyplot as plt\n",
    "import seaborn as sns\n",
    "from sklearn.cluster import KMeans"
   ]
  },
  {
   "cell_type": "code",
   "execution_count": 2,
   "metadata": {},
   "outputs": [],
   "source": [
    "data = pd.read_excel(\"Opportunity Dataset.xlsx\")"
   ]
  },
  {
   "cell_type": "code",
   "execution_count": null,
   "metadata": {},
   "outputs": [],
   "source": []
  },
  {
   "cell_type": "code",
   "execution_count": 3,
   "metadata": {},
   "outputs": [
    {
     "name": "stdout",
     "output_type": "stream",
     "text": [
      "<class 'pandas.core.frame.DataFrame'>\n",
      "RangeIndex: 5500 entries, 0 to 5499\n",
      "Data columns (total 11 columns):\n",
      "ID                                        5500 non-null int64\n",
      "Headline                                  5500 non-null object\n",
      "Description                               5498 non-null object\n",
      "Funding                                   2097 non-null object\n",
      "Deadline                                  5496 non-null object\n",
      "Type of opportunity                       5485 non-null object\n",
      "Sub tags                                  2607 non-null object\n",
      "Discipline                                5483 non-null object\n",
      "Minimum Qualification / Applicable for    5466 non-null object\n",
      "Countries eligible                        5488 non-null object\n",
      "Location of opportunity                   5486 non-null object\n",
      "dtypes: int64(1), object(10)\n",
      "memory usage: 472.7+ KB\n"
     ]
    }
   ],
   "source": [
    "data.info()"
   ]
  },
  {
   "cell_type": "code",
   "execution_count": 4,
   "metadata": {},
   "outputs": [],
   "source": [
    "input_columns = [\"Headline\",\"Description\",\"Type of opportunity\"\n",
    "                 ,\"Discipline\",\"Minimum Qualification / Applicable for\",\n",
    "                \"Countries eligible\",\"Location of opportunity\"]"
   ]
  },
  {
   "cell_type": "code",
   "execution_count": 5,
   "metadata": {},
   "outputs": [],
   "source": [
    "sns.pairplot?"
   ]
  },
  {
   "cell_type": "markdown",
   "metadata": {},
   "source": [
    "## Cleaning and Feature Engineering"
   ]
  },
  {
   "cell_type": "code",
   "execution_count": 6,
   "metadata": {},
   "outputs": [
    {
     "name": "stdout",
     "output_type": "stream",
     "text": [
      "(5456, 7)\n",
      "<class 'pandas.core.frame.DataFrame'>\n"
     ]
    },
    {
     "data": {
      "text/html": [
       "<div>\n",
       "<style scoped>\n",
       "    .dataframe tbody tr th:only-of-type {\n",
       "        vertical-align: middle;\n",
       "    }\n",
       "\n",
       "    .dataframe tbody tr th {\n",
       "        vertical-align: top;\n",
       "    }\n",
       "\n",
       "    .dataframe thead th {\n",
       "        text-align: right;\n",
       "    }\n",
       "</style>\n",
       "<table border=\"1\" class=\"dataframe\">\n",
       "  <thead>\n",
       "    <tr style=\"text-align: right;\">\n",
       "      <th></th>\n",
       "      <th>Headline</th>\n",
       "      <th>Description</th>\n",
       "      <th>Type of opportunity</th>\n",
       "      <th>Discipline</th>\n",
       "      <th>Minimum Qualification / Applicable for</th>\n",
       "      <th>Countries eligible</th>\n",
       "      <th>Location of opportunity</th>\n",
       "    </tr>\n",
       "  </thead>\n",
       "  <tbody>\n",
       "    <tr>\n",
       "      <th>0</th>\n",
       "      <td>International Fellowship World Forestry Center</td>\n",
       "      <td>WFC’s Discovery Museum was opened in 1971 to e...</td>\n",
       "      <td>Conferences</td>\n",
       "      <td>Humanities and Social Sciences</td>\n",
       "      <td>Bachelors</td>\n",
       "      <td>All</td>\n",
       "      <td>USA</td>\n",
       "    </tr>\n",
       "    <tr>\n",
       "      <th>1</th>\n",
       "      <td>City of Dreams Pavilion 2020: Call for Proposals</td>\n",
       "      <td>The current state of the world is such that bo...</td>\n",
       "      <td>Conferences</td>\n",
       "      <td>Engineering and Technology</td>\n",
       "      <td>Masters</td>\n",
       "      <td>All</td>\n",
       "      <td>USA</td>\n",
       "    </tr>\n",
       "    <tr>\n",
       "      <th>2</th>\n",
       "      <td>Urban Confluence Silicon Valley Competition</td>\n",
       "      <td>The Competition is managed by the San José Lig...</td>\n",
       "      <td>Competitions</td>\n",
       "      <td>Engineering and Technology</td>\n",
       "      <td>All</td>\n",
       "      <td>All</td>\n",
       "      <td>USA</td>\n",
       "    </tr>\n",
       "    <tr>\n",
       "      <th>3</th>\n",
       "      <td>REDEFINING LEARNING SPACES</td>\n",
       "      <td>The University of Louisiana at Lafayette is ex...</td>\n",
       "      <td>Competitions</td>\n",
       "      <td>Engineering and Technology</td>\n",
       "      <td>All</td>\n",
       "      <td>All</td>\n",
       "      <td>USA</td>\n",
       "    </tr>\n",
       "    <tr>\n",
       "      <th>4</th>\n",
       "      <td>Mozambique Preschool: Flor da Manhã</td>\n",
       "      <td>This competition gives you the opportunity to ...</td>\n",
       "      <td>Competitions</td>\n",
       "      <td>Engineering and Technology</td>\n",
       "      <td>All</td>\n",
       "      <td>All</td>\n",
       "      <td>Mozambique</td>\n",
       "    </tr>\n",
       "  </tbody>\n",
       "</table>\n",
       "</div>"
      ],
      "text/plain": [
       "                                           Headline  \\\n",
       "0    International Fellowship World Forestry Center   \n",
       "1  City of Dreams Pavilion 2020: Call for Proposals   \n",
       "2       Urban Confluence Silicon Valley Competition   \n",
       "3                        REDEFINING LEARNING SPACES   \n",
       "4               Mozambique Preschool: Flor da Manhã   \n",
       "\n",
       "                                         Description Type of opportunity  \\\n",
       "0  WFC’s Discovery Museum was opened in 1971 to e...         Conferences   \n",
       "1  The current state of the world is such that bo...         Conferences   \n",
       "2  The Competition is managed by the San José Lig...        Competitions   \n",
       "3  The University of Louisiana at Lafayette is ex...        Competitions   \n",
       "4  This competition gives you the opportunity to ...        Competitions   \n",
       "\n",
       "                       Discipline Minimum Qualification / Applicable for  \\\n",
       "0  Humanities and Social Sciences                              Bachelors   \n",
       "1      Engineering and Technology                                Masters   \n",
       "2      Engineering and Technology                                    All   \n",
       "3      Engineering and Technology                                    All   \n",
       "4      Engineering and Technology                                    All   \n",
       "\n",
       "  Countries eligible Location of opportunity  \n",
       "0                All                     USA  \n",
       "1                All                     USA  \n",
       "2                All                     USA  \n",
       "3                All                     USA  \n",
       "4                All              Mozambique  "
      ]
     },
     "execution_count": 6,
     "metadata": {},
     "output_type": "execute_result"
    }
   ],
   "source": [
    "train = data[input_columns]\n",
    "train.shape\n",
    "train = train.dropna(axis=0)\n",
    "print(train.shape)\n",
    "print(type(train))\n",
    "(train.head())"
   ]
  },
  {
   "cell_type": "code",
   "execution_count": 7,
   "metadata": {},
   "outputs": [
    {
     "name": "stdout",
     "output_type": "stream",
     "text": [
      "['Conferences' 'Conferences' 'Competitions' ...\n",
      " 'Scholarships, Fellowships' 'Competitions, Awards' 'Competitions, Awards']\n"
     ]
    }
   ],
   "source": [
    "types = train[\"Type of opportunity\"].values\n",
    "typeSet = {'competition'}\n",
    "print(types)"
   ]
  },
  {
   "cell_type": "code",
   "execution_count": 8,
   "metadata": {},
   "outputs": [],
   "source": [
    "for i in range(len(types)):\n",
    "#     print(types[i])\n",
    "    types[i] = types[i].replace(\"and\",\",\").replace(\" \",\",\").strip().lower().split(\",\")\n",
    "    for j in types[i]:\n",
    "        typeSet.add(j)\n",
    "#     print(types[i])"
   ]
  },
  {
   "cell_type": "code",
   "execution_count": 9,
   "metadata": {},
   "outputs": [
    {
     "data": {
      "text/plain": [
       "{'',\n",
       " '-conference',\n",
       " '/',\n",
       " 'academic',\n",
       " 'admission',\n",
       " 'admissions',\n",
       " 'awards',\n",
       " 'comeptitions',\n",
       " 'compeitions',\n",
       " 'competition',\n",
       " 'competitions',\n",
       " 'competitons',\n",
       " 'conference',\n",
       " 'conferences',\n",
       " 'contents',\n",
       " 'contest',\n",
       " 'contests',\n",
       " 'entrepreneurship',\n",
       " 'events',\n",
       " 'exchange',\n",
       " 'fellowshi',\n",
       " 'fellowship',\n",
       " 'fellowships',\n",
       " 'grants',\n",
       " 'internship',\n",
       " 'internships',\n",
       " 'job',\n",
       " 'master',\n",
       " 'miscellaneous',\n",
       " 'none',\n",
       " 'programs',\n",
       " 'schloarships',\n",
       " 'schoalrships',\n",
       " 'scholarship',\n",
       " 'scholarships',\n",
       " 'school',\n",
       " 'school/winter',\n",
       " 'schools',\n",
       " 'summer',\n",
       " 'summer/winter',\n",
       " 'training',\n",
       " 'training-',\n",
       " 'winter',\n",
       " 'workshops'}"
      ]
     },
     "execution_count": 9,
     "metadata": {},
     "output_type": "execute_result"
    }
   ],
   "source": [
    "typeSet"
   ]
  },
  {
   "cell_type": "code",
   "execution_count": 10,
   "metadata": {},
   "outputs": [
    {
     "data": {
      "text/plain": [
       "44"
      ]
     },
     "execution_count": 10,
     "metadata": {},
     "output_type": "execute_result"
    }
   ],
   "source": [
    "len(typeSet)"
   ]
  },
  {
   "cell_type": "code",
   "execution_count": null,
   "metadata": {},
   "outputs": [],
   "source": []
  },
  {
   "cell_type": "code",
   "execution_count": 11,
   "metadata": {},
   "outputs": [
    {
     "name": "stdout",
     "output_type": "stream",
     "text": [
      "['Humanities and Social Sciences' 'Engineering and Technology'\n",
      " 'Engineering and Technology' ... 'Life Sciences and Medicine'\n",
      " 'Natural Sciences' 'Natural Sciences']\n"
     ]
    }
   ],
   "source": [
    "\n",
    "\n",
    "discipline = train[\"Discipline\"].values\n",
    "disciplineSet = {\"masters\"}\n",
    "print(discipline)"
   ]
  },
  {
   "cell_type": "code",
   "execution_count": 12,
   "metadata": {},
   "outputs": [],
   "source": [
    "for i in range(len(discipline)):\n",
    "#     print(types[i])\n",
    "    discipline[i] = discipline[i].replace(\"and\",\",\").replace(\" \",\",\").strip().lower().split(\",\")\n",
    "    for j in discipline[i]:\n",
    "        disciplineSet.add(j)\n",
    "#     print(types[i])"
   ]
  },
  {
   "cell_type": "code",
   "execution_count": 13,
   "metadata": {},
   "outputs": [
    {
     "data": {
      "text/plain": [
       "{'',\n",
       " 'all',\n",
       " 'and',\n",
       " 'bachelors',\n",
       " 'engineering',\n",
       " 'engineeringa',\n",
       " 'enginnering',\n",
       " 'huamanities',\n",
       " 'humanites',\n",
       " 'humanities',\n",
       " 'humanitites',\n",
       " 'humanitoes',\n",
       " 'humanties',\n",
       " 'humaties',\n",
       " 'humnaities',\n",
       " 'journalism',\n",
       " 'life',\n",
       " 'management',\n",
       " 'managemnet',\n",
       " 'managment',\n",
       " 'mangement',\n",
       " 'masters',\n",
       " 'medicine',\n",
       " 'medicines',\n",
       " 'natural',\n",
       " 'nautral',\n",
       " 'none',\n",
       " 'postdoctorate',\n",
       " 'sceinces',\n",
       " 'school',\n",
       " 'science',\n",
       " 'sciences',\n",
       " 'sciences.',\n",
       " 'scienes',\n",
       " 'scinces',\n",
       " 'social',\n",
       " 'ssocial',\n",
       " 'technology'}"
      ]
     },
     "execution_count": 13,
     "metadata": {},
     "output_type": "execute_result"
    }
   ],
   "source": [
    "disciplineSet"
   ]
  },
  {
   "cell_type": "code",
   "execution_count": 14,
   "metadata": {},
   "outputs": [
    {
     "data": {
      "text/plain": [
       "38"
      ]
     },
     "execution_count": 14,
     "metadata": {},
     "output_type": "execute_result"
    }
   ],
   "source": [
    "len(disciplineSet)"
   ]
  },
  {
   "cell_type": "code",
   "execution_count": null,
   "metadata": {},
   "outputs": [],
   "source": []
  },
  {
   "cell_type": "code",
   "execution_count": 15,
   "metadata": {},
   "outputs": [
    {
     "name": "stdout",
     "output_type": "stream",
     "text": [
      "['Bachelors' 'Masters' 'All' ... 'Masters' 'Bachelors' 'Bachelors']\n"
     ]
    }
   ],
   "source": [
    "qualification = train[\"Minimum Qualification / Applicable for\"].values\n",
    "qualificationSet = {\"bachelors\"}\n",
    "print(qualification)\n"
   ]
  },
  {
   "cell_type": "code",
   "execution_count": 16,
   "metadata": {},
   "outputs": [],
   "source": [
    "for i in range(len(qualification)):\n",
    "#     print(types[i])\n",
    "    qualification[i] = qualification[i].replace(\"and\",\",\").replace(\" \",\",\").strip().lower().split(\",\")\n",
    "    for j in qualification[i]:\n",
    "        qualificationSet.add(j)\n",
    "#     print(types[i])"
   ]
  },
  {
   "cell_type": "code",
   "execution_count": 17,
   "metadata": {},
   "outputs": [],
   "source": [
    "qualificationSet\n",
    "\n",
    "qualificationDic = {\n",
    "    0 : [\"all\"],\n",
    "    1 : [\"bachelor\",\"bachelors\",\"bachelos\",\"bahcelors\",\"bachelorsmastersdoctoratepost\"],\n",
    "    2 : ['doctoral','doctorate','doctorates','doctotare','doctrate'],\n",
    "    3 : ['graduate'],\n",
    "    4 : ['masters','masterts','master’s','maters'],\n",
    "    5 : ['none','not'],\n",
    "    6 : ['post','post-doctorate','postdoctoral','postdoctorate'],\n",
    "    7 : ['school','schools','scool','specified','student','students']\n",
    "}"
   ]
  },
  {
   "cell_type": "code",
   "execution_count": null,
   "metadata": {},
   "outputs": [],
   "source": []
  },
  {
   "cell_type": "code",
   "execution_count": 18,
   "metadata": {},
   "outputs": [
    {
     "data": {
      "text/html": [
       "<div>\n",
       "<style scoped>\n",
       "    .dataframe tbody tr th:only-of-type {\n",
       "        vertical-align: middle;\n",
       "    }\n",
       "\n",
       "    .dataframe tbody tr th {\n",
       "        vertical-align: top;\n",
       "    }\n",
       "\n",
       "    .dataframe thead th {\n",
       "        text-align: right;\n",
       "    }\n",
       "</style>\n",
       "<table border=\"1\" class=\"dataframe\">\n",
       "  <thead>\n",
       "    <tr style=\"text-align: right;\">\n",
       "      <th></th>\n",
       "      <th>Headline</th>\n",
       "      <th>Description</th>\n",
       "      <th>Type of opportunity</th>\n",
       "      <th>Discipline</th>\n",
       "      <th>Minimum Qualification / Applicable for</th>\n",
       "      <th>Countries eligible</th>\n",
       "      <th>Location of opportunity</th>\n",
       "    </tr>\n",
       "  </thead>\n",
       "  <tbody>\n",
       "    <tr>\n",
       "      <th>0</th>\n",
       "      <td>International Fellowship World Forestry Center</td>\n",
       "      <td>WFC’s Discovery Museum was opened in 1971 to e...</td>\n",
       "      <td>[conferences]</td>\n",
       "      <td>[humanities, , , social, sciences]</td>\n",
       "      <td>[bachelors]</td>\n",
       "      <td>All</td>\n",
       "      <td>USA</td>\n",
       "    </tr>\n",
       "    <tr>\n",
       "      <th>1</th>\n",
       "      <td>City of Dreams Pavilion 2020: Call for Proposals</td>\n",
       "      <td>The current state of the world is such that bo...</td>\n",
       "      <td>[conferences]</td>\n",
       "      <td>[engineering, , , technology]</td>\n",
       "      <td>[masters]</td>\n",
       "      <td>All</td>\n",
       "      <td>USA</td>\n",
       "    </tr>\n",
       "    <tr>\n",
       "      <th>2</th>\n",
       "      <td>Urban Confluence Silicon Valley Competition</td>\n",
       "      <td>The Competition is managed by the San José Lig...</td>\n",
       "      <td>[competitions]</td>\n",
       "      <td>[engineering, , , technology]</td>\n",
       "      <td>[all]</td>\n",
       "      <td>All</td>\n",
       "      <td>USA</td>\n",
       "    </tr>\n",
       "    <tr>\n",
       "      <th>3</th>\n",
       "      <td>REDEFINING LEARNING SPACES</td>\n",
       "      <td>The University of Louisiana at Lafayette is ex...</td>\n",
       "      <td>[competitions]</td>\n",
       "      <td>[engineering, , , technology]</td>\n",
       "      <td>[all]</td>\n",
       "      <td>All</td>\n",
       "      <td>USA</td>\n",
       "    </tr>\n",
       "    <tr>\n",
       "      <th>4</th>\n",
       "      <td>Mozambique Preschool: Flor da Manhã</td>\n",
       "      <td>This competition gives you the opportunity to ...</td>\n",
       "      <td>[competitions]</td>\n",
       "      <td>[engineering, , , technology]</td>\n",
       "      <td>[all]</td>\n",
       "      <td>All</td>\n",
       "      <td>Mozambique</td>\n",
       "    </tr>\n",
       "  </tbody>\n",
       "</table>\n",
       "</div>"
      ],
      "text/plain": [
       "                                           Headline  \\\n",
       "0    International Fellowship World Forestry Center   \n",
       "1  City of Dreams Pavilion 2020: Call for Proposals   \n",
       "2       Urban Confluence Silicon Valley Competition   \n",
       "3                        REDEFINING LEARNING SPACES   \n",
       "4               Mozambique Preschool: Flor da Manhã   \n",
       "\n",
       "                                         Description Type of opportunity  \\\n",
       "0  WFC’s Discovery Museum was opened in 1971 to e...       [conferences]   \n",
       "1  The current state of the world is such that bo...       [conferences]   \n",
       "2  The Competition is managed by the San José Lig...      [competitions]   \n",
       "3  The University of Louisiana at Lafayette is ex...      [competitions]   \n",
       "4  This competition gives you the opportunity to ...      [competitions]   \n",
       "\n",
       "                           Discipline Minimum Qualification / Applicable for  \\\n",
       "0  [humanities, , , social, sciences]                            [bachelors]   \n",
       "1       [engineering, , , technology]                              [masters]   \n",
       "2       [engineering, , , technology]                                  [all]   \n",
       "3       [engineering, , , technology]                                  [all]   \n",
       "4       [engineering, , , technology]                                  [all]   \n",
       "\n",
       "  Countries eligible Location of opportunity  \n",
       "0                All                     USA  \n",
       "1                All                     USA  \n",
       "2                All                     USA  \n",
       "3                All                     USA  \n",
       "4                All              Mozambique  "
      ]
     },
     "execution_count": 18,
     "metadata": {},
     "output_type": "execute_result"
    }
   ],
   "source": [
    "train.head()"
   ]
  },
  {
   "cell_type": "code",
   "execution_count": null,
   "metadata": {},
   "outputs": [],
   "source": []
  },
  {
   "cell_type": "code",
   "execution_count": 19,
   "metadata": {},
   "outputs": [
    {
     "name": "stdout",
     "output_type": "stream",
     "text": [
      "['All' 'All' 'All' ... 'ALL' 'ALL' 'ALL']\n"
     ]
    }
   ],
   "source": [
    "eligible = train[\"Countries eligible\"].values\n",
    "eligibleSet = {\"all\"}\n",
    "print(eligible)\n",
    "\n",
    "for i in range(len(eligible)):\n",
    "#     print(types[i])\n",
    "    eligible[i] = eligible[i].replace(\"and\",\",\").replace(\" \",\",\").strip().lower().split(\",\")\n",
    "    for j in eligible[i]:\n",
    "        eligibleSet.add(j)\n",
    "#     print(types[i])"
   ]
  },
  {
   "cell_type": "code",
   "execution_count": null,
   "metadata": {},
   "outputs": [],
   "source": []
  },
  {
   "cell_type": "code",
   "execution_count": 20,
   "metadata": {},
   "outputs": [],
   "source": [
    "# eligibleSet"
   ]
  },
  {
   "cell_type": "code",
   "execution_count": 21,
   "metadata": {},
   "outputs": [
    {
     "data": {
      "text/plain": [
       "623"
      ]
     },
     "execution_count": 21,
     "metadata": {},
     "output_type": "execute_result"
    }
   ],
   "source": [
    "len(eligibleSet)"
   ]
  },
  {
   "cell_type": "code",
   "execution_count": null,
   "metadata": {},
   "outputs": [],
   "source": []
  },
  {
   "cell_type": "code",
   "execution_count": null,
   "metadata": {},
   "outputs": [],
   "source": []
  },
  {
   "cell_type": "code",
   "execution_count": null,
   "metadata": {},
   "outputs": [],
   "source": []
  },
  {
   "cell_type": "code",
   "execution_count": 22,
   "metadata": {},
   "outputs": [
    {
     "name": "stdout",
     "output_type": "stream",
     "text": [
      "[list(['all']) list(['all']) list(['all']) ... list(['all']) list(['all'])\n",
      " list(['all'])]\n"
     ]
    }
   ],
   "source": [
    "location = train[\"Location of opportunity\"].values\n",
    "locationSet = {\"usa\"}\n",
    "print(eligible)\n",
    "\n",
    "for i in range(len(location)):\n",
    "#     print(types[i])\n",
    "    location[i] = location[i].replace(\"and\",\",\").replace(\" \",\",\").strip().lower().split(\",\")\n",
    "    for j in location[i]:\n",
    "        locationSet.add(j)\n",
    "#     print(types[i])"
   ]
  },
  {
   "cell_type": "code",
   "execution_count": 23,
   "metadata": {},
   "outputs": [
    {
     "data": {
      "text/html": [
       "<div>\n",
       "<style scoped>\n",
       "    .dataframe tbody tr th:only-of-type {\n",
       "        vertical-align: middle;\n",
       "    }\n",
       "\n",
       "    .dataframe tbody tr th {\n",
       "        vertical-align: top;\n",
       "    }\n",
       "\n",
       "    .dataframe thead th {\n",
       "        text-align: right;\n",
       "    }\n",
       "</style>\n",
       "<table border=\"1\" class=\"dataframe\">\n",
       "  <thead>\n",
       "    <tr style=\"text-align: right;\">\n",
       "      <th></th>\n",
       "      <th>Headline</th>\n",
       "      <th>Description</th>\n",
       "      <th>Type of opportunity</th>\n",
       "      <th>Discipline</th>\n",
       "      <th>Minimum Qualification / Applicable for</th>\n",
       "      <th>Countries eligible</th>\n",
       "      <th>Location of opportunity</th>\n",
       "    </tr>\n",
       "  </thead>\n",
       "  <tbody>\n",
       "    <tr>\n",
       "      <th>0</th>\n",
       "      <td>International Fellowship World Forestry Center</td>\n",
       "      <td>WFC’s Discovery Museum was opened in 1971 to e...</td>\n",
       "      <td>[conferences]</td>\n",
       "      <td>[humanities, , , social, sciences]</td>\n",
       "      <td>[bachelors]</td>\n",
       "      <td>[all]</td>\n",
       "      <td>[usa]</td>\n",
       "    </tr>\n",
       "    <tr>\n",
       "      <th>1</th>\n",
       "      <td>City of Dreams Pavilion 2020: Call for Proposals</td>\n",
       "      <td>The current state of the world is such that bo...</td>\n",
       "      <td>[conferences]</td>\n",
       "      <td>[engineering, , , technology]</td>\n",
       "      <td>[masters]</td>\n",
       "      <td>[all]</td>\n",
       "      <td>[usa]</td>\n",
       "    </tr>\n",
       "    <tr>\n",
       "      <th>2</th>\n",
       "      <td>Urban Confluence Silicon Valley Competition</td>\n",
       "      <td>The Competition is managed by the San José Lig...</td>\n",
       "      <td>[competitions]</td>\n",
       "      <td>[engineering, , , technology]</td>\n",
       "      <td>[all]</td>\n",
       "      <td>[all]</td>\n",
       "      <td>[usa]</td>\n",
       "    </tr>\n",
       "    <tr>\n",
       "      <th>3</th>\n",
       "      <td>REDEFINING LEARNING SPACES</td>\n",
       "      <td>The University of Louisiana at Lafayette is ex...</td>\n",
       "      <td>[competitions]</td>\n",
       "      <td>[engineering, , , technology]</td>\n",
       "      <td>[all]</td>\n",
       "      <td>[all]</td>\n",
       "      <td>[usa]</td>\n",
       "    </tr>\n",
       "    <tr>\n",
       "      <th>4</th>\n",
       "      <td>Mozambique Preschool: Flor da Manhã</td>\n",
       "      <td>This competition gives you the opportunity to ...</td>\n",
       "      <td>[competitions]</td>\n",
       "      <td>[engineering, , , technology]</td>\n",
       "      <td>[all]</td>\n",
       "      <td>[all]</td>\n",
       "      <td>[mozambique]</td>\n",
       "    </tr>\n",
       "  </tbody>\n",
       "</table>\n",
       "</div>"
      ],
      "text/plain": [
       "                                           Headline  \\\n",
       "0    International Fellowship World Forestry Center   \n",
       "1  City of Dreams Pavilion 2020: Call for Proposals   \n",
       "2       Urban Confluence Silicon Valley Competition   \n",
       "3                        REDEFINING LEARNING SPACES   \n",
       "4               Mozambique Preschool: Flor da Manhã   \n",
       "\n",
       "                                         Description Type of opportunity  \\\n",
       "0  WFC’s Discovery Museum was opened in 1971 to e...       [conferences]   \n",
       "1  The current state of the world is such that bo...       [conferences]   \n",
       "2  The Competition is managed by the San José Lig...      [competitions]   \n",
       "3  The University of Louisiana at Lafayette is ex...      [competitions]   \n",
       "4  This competition gives you the opportunity to ...      [competitions]   \n",
       "\n",
       "                           Discipline Minimum Qualification / Applicable for  \\\n",
       "0  [humanities, , , social, sciences]                            [bachelors]   \n",
       "1       [engineering, , , technology]                              [masters]   \n",
       "2       [engineering, , , technology]                                  [all]   \n",
       "3       [engineering, , , technology]                                  [all]   \n",
       "4       [engineering, , , technology]                                  [all]   \n",
       "\n",
       "  Countries eligible Location of opportunity  \n",
       "0              [all]                   [usa]  \n",
       "1              [all]                   [usa]  \n",
       "2              [all]                   [usa]  \n",
       "3              [all]                   [usa]  \n",
       "4              [all]            [mozambique]  "
      ]
     },
     "execution_count": 23,
     "metadata": {},
     "output_type": "execute_result"
    }
   ],
   "source": [
    "train.head()"
   ]
  },
  {
   "cell_type": "code",
   "execution_count": 24,
   "metadata": {},
   "outputs": [],
   "source": [
    "train.to_csv(\"CleanedData.csv\",index=False)"
   ]
  },
  {
   "cell_type": "code",
   "execution_count": 25,
   "metadata": {},
   "outputs": [
    {
     "data": {
      "text/plain": [
       "(5456, 7)"
      ]
     },
     "execution_count": 25,
     "metadata": {},
     "output_type": "execute_result"
    }
   ],
   "source": [
    "train.shape"
   ]
  },
  {
   "cell_type": "code",
   "execution_count": 26,
   "metadata": {},
   "outputs": [],
   "source": [
    "train2 = pd.read_csv(\"CleanedData.csv\")"
   ]
  },
  {
   "cell_type": "code",
   "execution_count": 27,
   "metadata": {},
   "outputs": [],
   "source": [
    "from sklearn import preprocessing \n",
    "  \n",
    "# label_encoder object knows how to understand word labels. \n",
    "label_encoder = preprocessing.LabelEncoder() \n",
    "  \n",
    "# Encode labels in column 'species'. \n",
    "train2[\"Type of opportunity\"]= label_encoder.fit_transform(train2[\"Type of opportunity\"]) \n",
    "train2[\"Discipline\"]= label_encoder.fit_transform(train2[\"Discipline\"]) \n",
    "train2[\"Minimum Qualification / Applicable for\"]= label_encoder.fit_transform(train2[\"Minimum Qualification / Applicable for\"]) \n",
    "train2[\"Countries eligible\"]= label_encoder.fit_transform(train2[\"Countries eligible\"]) \n",
    "train2[\"Location of opportunity\"]= label_encoder.fit_transform(train2[\"Location of opportunity\"]) "
   ]
  },
  {
   "cell_type": "code",
   "execution_count": 28,
   "metadata": {},
   "outputs": [],
   "source": [
    "# train2"
   ]
  },
  {
   "cell_type": "code",
   "execution_count": null,
   "metadata": {},
   "outputs": [],
   "source": []
  },
  {
   "cell_type": "code",
   "execution_count": null,
   "metadata": {},
   "outputs": [],
   "source": []
  },
  {
   "cell_type": "code",
   "execution_count": null,
   "metadata": {},
   "outputs": [],
   "source": []
  },
  {
   "cell_type": "code",
   "execution_count": 29,
   "metadata": {},
   "outputs": [],
   "source": [
    "import numpy as np\n",
    "from scipy import spatial\n",
    "import matplotlib.pyplot as plt\n",
    "from sklearn.manifold import TSNE\n",
    "from nltk.corpus import stopwords \n",
    "from nltk.tokenize import word_tokenize\n",
    "stop_words = set(stopwords.words('english'))"
   ]
  },
  {
   "cell_type": "code",
   "execution_count": 30,
   "metadata": {},
   "outputs": [],
   "source": [
    "embeddings_dict = {}\n",
    "with open(\"glove.6B.50d.txt\", 'r') as f:\n",
    "    for line in f:\n",
    "        values = line.split()\n",
    "        word = values[0]\n",
    "        vector = np.asarray(values[1:], \"float32\")\n",
    "        embeddings_dict[word] = vector"
   ]
  },
  {
   "cell_type": "code",
   "execution_count": 31,
   "metadata": {},
   "outputs": [],
   "source": [
    "def vector(words):\n",
    "\n",
    "    words = words.lower().replace(\".\",\"\").replace(\",\",\"\").replace(\"-\",\"\")\n",
    "    word_tokens = word_tokenize(words)\n",
    "    filtered_sentence = [w for w in word_tokens if not w in stop_words] \n",
    "  \n",
    "    filtered_sentence = [] \n",
    "\n",
    "    for w in word_tokens: \n",
    "        if w not in stop_words: \n",
    "            filtered_sentence.append(w) \n",
    "    arr = np.zeros(50)\n",
    "    count=0\n",
    "    for i in filtered_sentence:\n",
    "#         print(i)\n",
    "        try:\n",
    "            arr+=embeddings_dict[i]\n",
    "            count+=1\n",
    "        except:\n",
    "            pass\n",
    "    return arr/count\n"
   ]
  },
  {
   "cell_type": "code",
   "execution_count": 32,
   "metadata": {},
   "outputs": [
    {
     "data": {
      "text/plain": [
       "array([ 0.11024717,  0.15261545, -0.17443711, -0.28652955,  0.15148505,\n",
       "        0.33130222, -0.34781839, -0.20054743,  0.12693543,  0.10709767,\n",
       "        0.07141539, -0.01381661, -0.07676743, -0.10038781,  0.24238732,\n",
       "        0.15857272,  0.30872611,  0.20924222,  0.21623745, -0.28131444,\n",
       "        0.04175335,  0.17523589, -0.26137039,  0.24329257,  0.13235558,\n",
       "       -1.27302778, -0.23856112, -0.30377459,  0.01888223, -0.10860278,\n",
       "        2.74929444,  0.34615338, -0.12939049, -0.73670388,  0.06859294,\n",
       "        0.08697328,  0.04060361,  0.29825056, -0.20811567, -0.39438821,\n",
       "       -0.44362166, -0.21482483,  0.24106133,  0.19269195, -0.07074806,\n",
       "        0.096511  , -0.21210421, -0.075568  , -0.01556983,  0.23902717])"
      ]
     },
     "execution_count": 32,
     "metadata": {},
     "output_type": "execute_result"
    }
   ],
   "source": [
    "vector(train2[\"Description\"][4])"
   ]
  },
  {
   "cell_type": "code",
   "execution_count": 33,
   "metadata": {},
   "outputs": [
    {
     "name": "stdout",
     "output_type": "stream",
     "text": [
      "['WFC’s Discovery Museum was opened in 1971 to educate the general public about local and global forests and sustainable forestry. Magness Memorial Tree Farm, our premier demonstration forest located near Sherwood, Oregon, offers a hands-on outdoor approach to environmental learning.'\n",
      " 'The current state of the world is such that both economic and natural resources are limited and unequally distributed. A new way of thinking is necessary to solve the problems that the world faces. Inevitably, the result will be a change in the basic practices that have driven the world to its current state. One place to start to activate and energize these changes is within the architecture and design community, where the movement toward climate action has encouraged the use of energy standards that lead to a future carbon neutral built environment.'\n",
      " 'The Competition is managed by the San José Light Tower Corporation, a not-for-profit organization led by residents of San José and other Silicon Valley cities who are passionate about downtown San José and the role that design can play in building community. Through exceptional fundraising efforts and relationship building, this group has developed a strong working partnership with local government and philanthropy.'\n",
      " ...\n",
      " 'The Australian public research university La Trobe University calls applications for the Knee Injury Rehabilitation Research Scholarship. Through this scholarship, the university aims to gather qualified Ph.D. candidates to participate in the research that aims to improve outcomes following a knee injury and reconstruction. This scholarship at La Trobe University is a fully-funded opportunity for students who are keen on studying the effect of exercise-therapy on optimizing knee symptoms and quality of life and preventing osteoarthritis after anterior cruciate ligament (ACL) injury and reconstruction. Basically, the Candidate will work under the supervision of Professor Kay Crossley and Dr. Adam Culvenor within the La Trobe Sport and Exercise Medicine Research Centre.'\n",
      " 'Applications are now open for All About Photo Awards 2020 with up to $10,000 in Cash Prizes. The 5th edition of the All About Photo Awards invites photographers from around the world to submit their best work for consideration. In reference to Henri Cartier-Bressons photo essay, The Minds Eye investigates the depth and thoughts behind each image. Winners will receive $10,000 in cash awards, extensive press coverage, and global recognition. The grand prize is $5,000, the 2nd prize is $2,000, the 3rd prize is $1,500, the 4th prize is $1,000 and the 5th prize is $500! All winners will have their work published/showcased on the website Lenscratch, Daylighted, All About Photo Winners Gallery and AAP Magazine Special Edition All About Photo Awards 2020. In addition, a selection of entrants of particular merit will get a chance to display their portfolio on the All About Photo website.The panel of world-renowned jurors composed of 8 photographers and industry professionals will evaluate the photographs.'\n",
      " 'The seventh edition of LUMIX Festival for Young Visual Journalism will take place in Hanover from 24 to 28 June 2020. The Verein zur Frderung visueller Medien e.V. in collaboration with the Photojournalism and Documentary Photography program at Hanover University of Applied Sciences and Arts and the FREELENS journalists association will be organizing the event. On the occasion of the 7th LUMIX Festival for Young Photojournalism, we invite young photojournalists to take part in the competition for the FREELENS Award, which is endowed with 10,000 euros. Two further projects will be distinguished, each with an honorable mention and 1,000 euros. Furthermore, we will confer the Lammerhuber Award, the UmweltDruckerei Sustainability Prize and the HAZ Audience Prize on photo series selected from the exhibition.Award prizeFor the most outstanding multimedia web story, Panasonic will in 2020 again confer the LUMIX Digital Storytelling Award, which is endowed with 5,000 euros.']\n"
     ]
    }
   ],
   "source": [
    "Description = train[\"Description\"].values\n",
    "\n",
    "print(Description)\n",
    "\n",
    "for i in range(len(Description)):\n",
    "#     print(types[i])\n",
    "    Description[i] = vector(Description[i])\n",
    "#     train2[\"Description\"][i] = Description[i]\n",
    "#     print(types[i])"
   ]
  },
  {
   "cell_type": "code",
   "execution_count": 34,
   "metadata": {},
   "outputs": [
    {
     "data": {
      "text/html": [
       "<div>\n",
       "<style scoped>\n",
       "    .dataframe tbody tr th:only-of-type {\n",
       "        vertical-align: middle;\n",
       "    }\n",
       "\n",
       "    .dataframe tbody tr th {\n",
       "        vertical-align: top;\n",
       "    }\n",
       "\n",
       "    .dataframe thead th {\n",
       "        text-align: right;\n",
       "    }\n",
       "</style>\n",
       "<table border=\"1\" class=\"dataframe\">\n",
       "  <thead>\n",
       "    <tr style=\"text-align: right;\">\n",
       "      <th></th>\n",
       "      <th>Headline</th>\n",
       "      <th>Description</th>\n",
       "      <th>Type of opportunity</th>\n",
       "      <th>Discipline</th>\n",
       "      <th>Minimum Qualification / Applicable for</th>\n",
       "      <th>Countries eligible</th>\n",
       "      <th>Location of opportunity</th>\n",
       "    </tr>\n",
       "  </thead>\n",
       "  <tbody>\n",
       "    <tr>\n",
       "      <th>0</th>\n",
       "      <td>International Fellowship World Forestry Center</td>\n",
       "      <td>WFC’s Discovery Museum was opened in 1971 to e...</td>\n",
       "      <td>34</td>\n",
       "      <td>31</td>\n",
       "      <td>14</td>\n",
       "      <td>70</td>\n",
       "      <td>211</td>\n",
       "    </tr>\n",
       "    <tr>\n",
       "      <th>1</th>\n",
       "      <td>City of Dreams Pavilion 2020: Call for Proposals</td>\n",
       "      <td>The current state of the world is such that bo...</td>\n",
       "      <td>34</td>\n",
       "      <td>10</td>\n",
       "      <td>38</td>\n",
       "      <td>70</td>\n",
       "      <td>211</td>\n",
       "    </tr>\n",
       "    <tr>\n",
       "      <th>2</th>\n",
       "      <td>Urban Confluence Silicon Valley Competition</td>\n",
       "      <td>The Competition is managed by the San José Lig...</td>\n",
       "      <td>25</td>\n",
       "      <td>10</td>\n",
       "      <td>0</td>\n",
       "      <td>70</td>\n",
       "      <td>211</td>\n",
       "    </tr>\n",
       "    <tr>\n",
       "      <th>3</th>\n",
       "      <td>REDEFINING LEARNING SPACES</td>\n",
       "      <td>The University of Louisiana at Lafayette is ex...</td>\n",
       "      <td>25</td>\n",
       "      <td>10</td>\n",
       "      <td>0</td>\n",
       "      <td>70</td>\n",
       "      <td>211</td>\n",
       "    </tr>\n",
       "    <tr>\n",
       "      <th>4</th>\n",
       "      <td>Mozambique Preschool: Flor da Manhã</td>\n",
       "      <td>This competition gives you the opportunity to ...</td>\n",
       "      <td>25</td>\n",
       "      <td>10</td>\n",
       "      <td>0</td>\n",
       "      <td>70</td>\n",
       "      <td>125</td>\n",
       "    </tr>\n",
       "  </tbody>\n",
       "</table>\n",
       "</div>"
      ],
      "text/plain": [
       "                                           Headline  \\\n",
       "0    International Fellowship World Forestry Center   \n",
       "1  City of Dreams Pavilion 2020: Call for Proposals   \n",
       "2       Urban Confluence Silicon Valley Competition   \n",
       "3                        REDEFINING LEARNING SPACES   \n",
       "4               Mozambique Preschool: Flor da Manhã   \n",
       "\n",
       "                                         Description  Type of opportunity  \\\n",
       "0  WFC’s Discovery Museum was opened in 1971 to e...                   34   \n",
       "1  The current state of the world is such that bo...                   34   \n",
       "2  The Competition is managed by the San José Lig...                   25   \n",
       "3  The University of Louisiana at Lafayette is ex...                   25   \n",
       "4  This competition gives you the opportunity to ...                   25   \n",
       "\n",
       "   Discipline  Minimum Qualification / Applicable for  Countries eligible  \\\n",
       "0          31                                      14                  70   \n",
       "1          10                                      38                  70   \n",
       "2          10                                       0                  70   \n",
       "3          10                                       0                  70   \n",
       "4          10                                       0                  70   \n",
       "\n",
       "   Location of opportunity  \n",
       "0                      211  \n",
       "1                      211  \n",
       "2                      211  \n",
       "3                      211  \n",
       "4                      125  "
      ]
     },
     "execution_count": 34,
     "metadata": {},
     "output_type": "execute_result"
    }
   ],
   "source": [
    "train2.head()"
   ]
  },
  {
   "cell_type": "code",
   "execution_count": 35,
   "metadata": {},
   "outputs": [],
   "source": [
    "# Description"
   ]
  },
  {
   "cell_type": "code",
   "execution_count": 36,
   "metadata": {},
   "outputs": [
    {
     "data": {
      "text/plain": [
       "(5456, 8)"
      ]
     },
     "execution_count": 36,
     "metadata": {},
     "output_type": "execute_result"
    }
   ],
   "source": [
    "train2[\"vector\"] = Description\n",
    "train2.shape"
   ]
  },
  {
   "cell_type": "code",
   "execution_count": 37,
   "metadata": {},
   "outputs": [
    {
     "data": {
      "text/html": [
       "<div>\n",
       "<style scoped>\n",
       "    .dataframe tbody tr th:only-of-type {\n",
       "        vertical-align: middle;\n",
       "    }\n",
       "\n",
       "    .dataframe tbody tr th {\n",
       "        vertical-align: top;\n",
       "    }\n",
       "\n",
       "    .dataframe thead th {\n",
       "        text-align: right;\n",
       "    }\n",
       "</style>\n",
       "<table border=\"1\" class=\"dataframe\">\n",
       "  <thead>\n",
       "    <tr style=\"text-align: right;\">\n",
       "      <th></th>\n",
       "      <th>Headline</th>\n",
       "      <th>Description</th>\n",
       "      <th>Type of opportunity</th>\n",
       "      <th>Discipline</th>\n",
       "      <th>Minimum Qualification / Applicable for</th>\n",
       "      <th>Countries eligible</th>\n",
       "      <th>Location of opportunity</th>\n",
       "      <th>vector</th>\n",
       "    </tr>\n",
       "  </thead>\n",
       "  <tbody>\n",
       "    <tr>\n",
       "      <th>0</th>\n",
       "      <td>International Fellowship World Forestry Center</td>\n",
       "      <td>WFC’s Discovery Museum was opened in 1971 to e...</td>\n",
       "      <td>34</td>\n",
       "      <td>31</td>\n",
       "      <td>14</td>\n",
       "      <td>70</td>\n",
       "      <td>211</td>\n",
       "      <td>[0.12801673538201758, 0.430770096879813, -0.19...</td>\n",
       "    </tr>\n",
       "    <tr>\n",
       "      <th>1</th>\n",
       "      <td>City of Dreams Pavilion 2020: Call for Proposals</td>\n",
       "      <td>The current state of the world is such that bo...</td>\n",
       "      <td>34</td>\n",
       "      <td>10</td>\n",
       "      <td>38</td>\n",
       "      <td>70</td>\n",
       "      <td>211</td>\n",
       "      <td>[0.12760471270448762, 0.10491297919303179, -0....</td>\n",
       "    </tr>\n",
       "    <tr>\n",
       "      <th>2</th>\n",
       "      <td>Urban Confluence Silicon Valley Competition</td>\n",
       "      <td>The Competition is managed by the San José Lig...</td>\n",
       "      <td>25</td>\n",
       "      <td>10</td>\n",
       "      <td>0</td>\n",
       "      <td>70</td>\n",
       "      <td>211</td>\n",
       "      <td>[0.3282923159013326, 0.28631761881548007, -0.1...</td>\n",
       "    </tr>\n",
       "    <tr>\n",
       "      <th>3</th>\n",
       "      <td>REDEFINING LEARNING SPACES</td>\n",
       "      <td>The University of Louisiana at Lafayette is ex...</td>\n",
       "      <td>25</td>\n",
       "      <td>10</td>\n",
       "      <td>0</td>\n",
       "      <td>70</td>\n",
       "      <td>211</td>\n",
       "      <td>[-0.0006569979064490484, 0.31522516213843355, ...</td>\n",
       "    </tr>\n",
       "    <tr>\n",
       "      <th>4</th>\n",
       "      <td>Mozambique Preschool: Flor da Manhã</td>\n",
       "      <td>This competition gives you the opportunity to ...</td>\n",
       "      <td>25</td>\n",
       "      <td>10</td>\n",
       "      <td>0</td>\n",
       "      <td>70</td>\n",
       "      <td>125</td>\n",
       "      <td>[0.11024716806908448, 0.152615449598266, -0.17...</td>\n",
       "    </tr>\n",
       "  </tbody>\n",
       "</table>\n",
       "</div>"
      ],
      "text/plain": [
       "                                           Headline  \\\n",
       "0    International Fellowship World Forestry Center   \n",
       "1  City of Dreams Pavilion 2020: Call for Proposals   \n",
       "2       Urban Confluence Silicon Valley Competition   \n",
       "3                        REDEFINING LEARNING SPACES   \n",
       "4               Mozambique Preschool: Flor da Manhã   \n",
       "\n",
       "                                         Description  Type of opportunity  \\\n",
       "0  WFC’s Discovery Museum was opened in 1971 to e...                   34   \n",
       "1  The current state of the world is such that bo...                   34   \n",
       "2  The Competition is managed by the San José Lig...                   25   \n",
       "3  The University of Louisiana at Lafayette is ex...                   25   \n",
       "4  This competition gives you the opportunity to ...                   25   \n",
       "\n",
       "   Discipline  Minimum Qualification / Applicable for  Countries eligible  \\\n",
       "0          31                                      14                  70   \n",
       "1          10                                      38                  70   \n",
       "2          10                                       0                  70   \n",
       "3          10                                       0                  70   \n",
       "4          10                                       0                  70   \n",
       "\n",
       "   Location of opportunity                                             vector  \n",
       "0                      211  [0.12801673538201758, 0.430770096879813, -0.19...  \n",
       "1                      211  [0.12760471270448762, 0.10491297919303179, -0....  \n",
       "2                      211  [0.3282923159013326, 0.28631761881548007, -0.1...  \n",
       "3                      211  [-0.0006569979064490484, 0.31522516213843355, ...  \n",
       "4                      125  [0.11024716806908448, 0.152615449598266, -0.17...  "
      ]
     },
     "execution_count": 37,
     "metadata": {},
     "output_type": "execute_result"
    }
   ],
   "source": [
    "train2.head()"
   ]
  },
  {
   "cell_type": "code",
   "execution_count": 38,
   "metadata": {},
   "outputs": [],
   "source": [
    "train2 = train2.drop([\"Description\"],axis=1)"
   ]
  },
  {
   "cell_type": "code",
   "execution_count": 39,
   "metadata": {},
   "outputs": [
    {
     "data": {
      "text/html": [
       "<div>\n",
       "<style scoped>\n",
       "    .dataframe tbody tr th:only-of-type {\n",
       "        vertical-align: middle;\n",
       "    }\n",
       "\n",
       "    .dataframe tbody tr th {\n",
       "        vertical-align: top;\n",
       "    }\n",
       "\n",
       "    .dataframe thead th {\n",
       "        text-align: right;\n",
       "    }\n",
       "</style>\n",
       "<table border=\"1\" class=\"dataframe\">\n",
       "  <thead>\n",
       "    <tr style=\"text-align: right;\">\n",
       "      <th></th>\n",
       "      <th>Headline</th>\n",
       "      <th>Type of opportunity</th>\n",
       "      <th>Discipline</th>\n",
       "      <th>Minimum Qualification / Applicable for</th>\n",
       "      <th>Countries eligible</th>\n",
       "      <th>Location of opportunity</th>\n",
       "      <th>vector</th>\n",
       "    </tr>\n",
       "  </thead>\n",
       "  <tbody>\n",
       "    <tr>\n",
       "      <th>0</th>\n",
       "      <td>International Fellowship World Forestry Center</td>\n",
       "      <td>34</td>\n",
       "      <td>31</td>\n",
       "      <td>14</td>\n",
       "      <td>70</td>\n",
       "      <td>211</td>\n",
       "      <td>[0.12801673538201758, 0.430770096879813, -0.19...</td>\n",
       "    </tr>\n",
       "    <tr>\n",
       "      <th>1</th>\n",
       "      <td>City of Dreams Pavilion 2020: Call for Proposals</td>\n",
       "      <td>34</td>\n",
       "      <td>10</td>\n",
       "      <td>38</td>\n",
       "      <td>70</td>\n",
       "      <td>211</td>\n",
       "      <td>[0.12760471270448762, 0.10491297919303179, -0....</td>\n",
       "    </tr>\n",
       "    <tr>\n",
       "      <th>2</th>\n",
       "      <td>Urban Confluence Silicon Valley Competition</td>\n",
       "      <td>25</td>\n",
       "      <td>10</td>\n",
       "      <td>0</td>\n",
       "      <td>70</td>\n",
       "      <td>211</td>\n",
       "      <td>[0.3282923159013326, 0.28631761881548007, -0.1...</td>\n",
       "    </tr>\n",
       "    <tr>\n",
       "      <th>3</th>\n",
       "      <td>REDEFINING LEARNING SPACES</td>\n",
       "      <td>25</td>\n",
       "      <td>10</td>\n",
       "      <td>0</td>\n",
       "      <td>70</td>\n",
       "      <td>211</td>\n",
       "      <td>[-0.0006569979064490484, 0.31522516213843355, ...</td>\n",
       "    </tr>\n",
       "    <tr>\n",
       "      <th>4</th>\n",
       "      <td>Mozambique Preschool: Flor da Manhã</td>\n",
       "      <td>25</td>\n",
       "      <td>10</td>\n",
       "      <td>0</td>\n",
       "      <td>70</td>\n",
       "      <td>125</td>\n",
       "      <td>[0.11024716806908448, 0.152615449598266, -0.17...</td>\n",
       "    </tr>\n",
       "  </tbody>\n",
       "</table>\n",
       "</div>"
      ],
      "text/plain": [
       "                                           Headline  Type of opportunity  \\\n",
       "0    International Fellowship World Forestry Center                   34   \n",
       "1  City of Dreams Pavilion 2020: Call for Proposals                   34   \n",
       "2       Urban Confluence Silicon Valley Competition                   25   \n",
       "3                        REDEFINING LEARNING SPACES                   25   \n",
       "4               Mozambique Preschool: Flor da Manhã                   25   \n",
       "\n",
       "   Discipline  Minimum Qualification / Applicable for  Countries eligible  \\\n",
       "0          31                                      14                  70   \n",
       "1          10                                      38                  70   \n",
       "2          10                                       0                  70   \n",
       "3          10                                       0                  70   \n",
       "4          10                                       0                  70   \n",
       "\n",
       "   Location of opportunity                                             vector  \n",
       "0                      211  [0.12801673538201758, 0.430770096879813, -0.19...  \n",
       "1                      211  [0.12760471270448762, 0.10491297919303179, -0....  \n",
       "2                      211  [0.3282923159013326, 0.28631761881548007, -0.1...  \n",
       "3                      211  [-0.0006569979064490484, 0.31522516213843355, ...  \n",
       "4                      125  [0.11024716806908448, 0.152615449598266, -0.17...  "
      ]
     },
     "execution_count": 39,
     "metadata": {},
     "output_type": "execute_result"
    }
   ],
   "source": [
    "train2.head()"
   ]
  },
  {
   "cell_type": "code",
   "execution_count": 40,
   "metadata": {},
   "outputs": [
    {
     "data": {
      "text/plain": [
       "Index(['Headline', 'Type of opportunity', 'Discipline',\n",
       "       'Minimum Qualification / Applicable for', 'Countries eligible',\n",
       "       'Location of opportunity', 'vector'],\n",
       "      dtype='object')"
      ]
     },
     "execution_count": 40,
     "metadata": {},
     "output_type": "execute_result"
    }
   ],
   "source": [
    "train2.columns"
   ]
  },
  {
   "cell_type": "code",
   "execution_count": 41,
   "metadata": {},
   "outputs": [],
   "source": [
    "train2.to_csv(\"featuredEngineeredData.csv\", index=False)"
   ]
  },
  {
   "cell_type": "code",
   "execution_count": 42,
   "metadata": {},
   "outputs": [
    {
     "data": {
      "text/plain": [
       "KMeans(algorithm='auto', copy_x=True, init='k-means++', max_iter=500,\n",
       "       n_clusters=10, n_init=15, n_jobs=None, precompute_distances='auto',\n",
       "       random_state=None, tol=0.0001, verbose=0)"
      ]
     },
     "execution_count": 42,
     "metadata": {},
     "output_type": "execute_result"
    }
   ],
   "source": [
    "X = train2[['Type of opportunity', 'Discipline', 'Minimum Qualification / Applicable for', 'Countries eligible','Location of opportunity']]\n",
    "model = KMeans(n_clusters=10, init='k-means++', max_iter=500, n_init=15)\n",
    "model.fit(X)"
   ]
  },
  {
   "cell_type": "code",
   "execution_count": 43,
   "metadata": {},
   "outputs": [],
   "source": [
    "order_centroids = model.cluster_centers_.argsort()[:, ::-1]\n"
   ]
  },
  {
   "cell_type": "code",
   "execution_count": null,
   "metadata": {},
   "outputs": [],
   "source": []
  },
  {
   "cell_type": "code",
   "execution_count": 44,
   "metadata": {},
   "outputs": [
    {
     "data": {
      "image/png": "[encoded data removed]",
      "text/plain": [
       "<Figure size 432x288 with 1 Axes>"
      ]
     },
     "metadata": {
      "needs_background": "light"
     },
     "output_type": "display_data"
    }
   ],
   "source": [
    "import matplotlib.pyplot as plt\n",
    "# Sum of Squares errors stored here\n",
    "sse = {}\n",
    "for k in range(1, 40):\n",
    "    kmeans = KMeans(n_clusters=k, init='k-means++', max_iter=100).fit(X)\n",
    "    sse[k] = kmeans.inertia_\n",
    "plt.plot(list(sse.keys()), list(sse.values()))\n",
    "plt.xlabel(\"Number of cluster\")\n",
    "plt.ylabel(\"SSE\")\n",
    "\n",
    "plt.savefig('elbow_method_label_based.png')"
   ]
  },
  {
   "cell_type": "code",
   "execution_count": 45,
   "metadata": {},
   "outputs": [
    {
     "name": "stdout",
     "output_type": "stream",
     "text": [
      "ideal plot\n"
     ]
    },
    {
     "data": {
      "text/html": [
       "<img src=\"data:image/png;base64,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\"/>"
      ],
      "text/plain": [
       "<IPython.core.display.Image object>"
      ]
     },
     "execution_count": 45,
     "metadata": {},
     "output_type": "execute_result"
    }
   ],
   "source": [
    "from IPython.display import Image\n",
    "from IPython.core.display import HTML \n",
    "print(\"ideal plot\")\n",
    "Image(url= \"data:image/png;base64,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\")"
   ]
  },
  {
   "cell_type": "code",
   "execution_count": null,
   "metadata": {},
   "outputs": [],
   "source": []
  },
  {
   "cell_type": "code",
   "execution_count": 46,
   "metadata": {},
   "outputs": [
    {
     "name": "stdout",
     "output_type": "stream",
     "text": [
      "[5 5 5 ... 4 5 0]\n"
     ]
    },
    {
     "data": {
      "text/plain": [
       "(array([0, 1, 2, 3, 4, 5, 6, 7, 8, 9], dtype=int32),\n",
       " array([ 749, 1407,  196,  329,  589,  483,  665,  118,  753,  167]))"
      ]
     },
     "execution_count": 46,
     "metadata": {},
     "output_type": "execute_result"
    }
   ],
   "source": [
    "pred = model.labels_\n",
    "print(pred)\n",
    "y = train\n",
    "np.unique(pred,return_counts=True)"
   ]
  },
  {
   "cell_type": "code",
   "execution_count": 47,
   "metadata": {
    "scrolled": true
   },
   "outputs": [
    {
     "name": "stdout",
     "output_type": "stream",
     "text": [
      "\n",
      " 0 ==> 5\n",
      "International Fellowship World Forestry Center   ['conferences']   ['humanities', '', '', 'social', 'sciences'] ['bachelors'] ['all'] ['usa'] <<<< 5 >>>>>\n",
      "\n",
      " 1 ==> 5\n",
      "City of Dreams Pavilion 2020: Call for Proposals   ['conferences']   ['engineering', '', '', 'technology'] ['masters'] ['all'] ['usa'] <<<< 5 >>>>>\n",
      "\n",
      " 2 ==> 5\n",
      "Urban Confluence Silicon Valley Competition   ['competitions']   ['engineering', '', '', 'technology'] ['all'] ['all'] ['usa'] <<<< 5 >>>>>\n",
      "\n",
      " 3 ==> 5\n",
      "REDEFINING LEARNING SPACES   ['competitions']   ['engineering', '', '', 'technology'] ['all'] ['all'] ['usa'] <<<< 5 >>>>>\n",
      "\n",
      " 4 ==> 6\n",
      "Mozambique Preschool: Flor da Manhã   ['competitions']   ['engineering', '', '', 'technology'] ['all'] ['all'] ['mozambique'] <<<< 6 >>>>>\n",
      "\n",
      " 5 ==> 6\n",
      "OPEN COMPETITION TO DEVELOP CONCEPTUAL DESIGNS FOR GARAGE MUSEUM OF CONTEMPORARY ART’S SUMMER CINEMA   ['competitions']   ['all'] ['all'] ['all'] ['russia'] <<<< 6 >>>>>\n",
      "\n",
      " 6 ==> 0\n",
      "International Urban Design Ideas Competition Berlin-Brandenburg 2070   ['competitions']   ['engineering', '', '', 'technology'] ['all'] ['all'] ['germany'] <<<< 0 >>>>>\n",
      "\n",
      " 7 ==> 0\n",
      "RESTART CONTEST   ['competitions']   ['engineering', '', '', 'technology'] ['all'] ['all'] ['france'] <<<< 0 >>>>>\n",
      "\n",
      " 8 ==> 5\n",
      "International Ideas Competition: LIVING IN THE CITY. Contemporary Urban Housing in Uruguay   ['competitions']   ['engineering', '', '', 'technology'] ['all'] ['all'] ['uruguay'] <<<< 5 >>>>>\n",
      "\n",
      " 9 ==> 0\n",
      "2nd National Ideas Competition IMUVI   ['competitions']   ['management'] ['all'] ['all'] ['france'] <<<< 0 >>>>>\n",
      "\n",
      " 10 ==> 6\n",
      "Moon Trip - Inspiring Humanity to Explore Beyond Earth   ['competitions']   ['all'] ['all'] ['all'] ['online'] <<<< 6 >>>>>\n",
      "\n",
      " 11 ==> 6\n",
      "Scholars International Conference on Pediatrics and Neonatology   ['conferences']   ['all'] ['all'] ['all'] ['spain'] <<<< 6 >>>>>\n",
      "\n",
      " 12 ==> 0\n",
      "Scholars International Conference on Advances in Neurology and Neuropsychiatry   ['conferences']   ['all'] ['all'] ['all'] ['japan'] <<<< 0 >>>>>\n",
      "\n",
      " 13 ==> 8\n",
      "BOLC Distance Learning Scholarships   ['scholarships']   ['all'] ['all'] ['all'] ['online'] <<<< 8 >>>>>\n",
      "\n",
      " 14 ==> 6\n",
      "SZIDF 2019 Gadget Design Award   ['awards']   ['all'] ['all'] ['all'] ['online'] <<<< 6 >>>>>\n",
      "\n",
      " 15 ==> 6\n",
      "Article Writing Contest 2019   ['competitions']   ['all'] ['all'] ['all'] ['online'] <<<< 6 >>>>>\n",
      "\n",
      " 16 ==> 6\n",
      "Temporary Needs   ['competitions']   ['all'] ['all'] ['all'] ['online'] <<<< 6 >>>>>\n",
      "\n",
      " 17 ==> 6\n",
      "UXHack Learning Hackathon 3: Let's Build for India   ['competitions']   ['all'] ['all'] ['all'] ['online'] <<<< 6 >>>>>\n",
      "\n",
      " 18 ==> 6\n",
      "Scale Challenge   ['competitions']   ['all'] ['all'] ['all'] ['online'] <<<< 6 >>>>>\n",
      "\n",
      " 19 ==> 6\n",
      "Cap Innovation Contest   ['competitions']   ['all'] ['all'] ['all'] ['online'] <<<< 6 >>>>>\n"
     ]
    }
   ],
   "source": [
    "for i in range(20):\n",
    "    print(\"\\n\",i,\"==>\",pred[i])\n",
    "    print(train.iloc[i,0], \" \",train.iloc[i,2],\" \",train.iloc[i,3],train.iloc[i,4],train.iloc[i,5],train.iloc[i,6],\"<<<<\",pred[i],\">>>>>\")"
   ]
  },
  {
   "cell_type": "code",
   "execution_count": null,
   "metadata": {},
   "outputs": [],
   "source": []
  }
 ],
 "metadata": {
  "kernelspec": {
   "display_name": "Python 3",
   "language": "python",
   "name": "python3"
  },
  "language_info": {
   "codemirror_mode": {
    "name": "ipython",
    "version": 3
   },
   "file_extension": ".py",
   "mimetype": "text/x-python",
   "name": "python",
   "nbconvert_exporter": "python",
   "pygments_lexer": "ipython3",
   "version": "3.6.7"
  }
 },
 "nbformat": 4,
 "nbformat_minor": 2
}

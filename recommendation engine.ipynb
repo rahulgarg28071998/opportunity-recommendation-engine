{
 "cells": [
  {
   "cell_type": "code",
   "execution_count": 1,
   "metadata": {},
   "outputs": [],
   "source": [
    "#using collabrative filtering because it makes more sense\n",
    "import pandas as pd\n",
    "import numpy as np\n",
    "import pickle\n",
    "from  sklearn.metrics import pairwise\n",
    "import numpy as np\n",
    "from scipy import spatial\n",
    "import matplotlib.pyplot as plt\n",
    "from sklearn.manifold import TSNE"
   ]
  },
  {
   "cell_type": "code",
   "execution_count": 2,
   "metadata": {},
   "outputs": [],
   "source": [
    "data = pd.read_excel(\"User profile.xlsx\", error_bad_lines=False)"
   ]
  },
  {
   "cell_type": "code",
   "execution_count": 3,
   "metadata": {},
   "outputs": [
    {
     "data": {
      "text/plain": [
       "(5872, 6)"
      ]
     },
     "execution_count": 3,
     "metadata": {},
     "output_type": "execute_result"
    }
   ],
   "source": [
    "data.shape"
   ]
  },
  {
   "cell_type": "code",
   "execution_count": 4,
   "metadata": {},
   "outputs": [
    {
     "data": {
      "text/html": [
       "<div>\n",
       "<style scoped>\n",
       "    .dataframe tbody tr th:only-of-type {\n",
       "        vertical-align: middle;\n",
       "    }\n",
       "\n",
       "    .dataframe tbody tr th {\n",
       "        vertical-align: top;\n",
       "    }\n",
       "\n",
       "    .dataframe thead th {\n",
       "        text-align: right;\n",
       "    }\n",
       "</style>\n",
       "<table border=\"1\" class=\"dataframe\">\n",
       "  <thead>\n",
       "    <tr style=\"text-align: right;\">\n",
       "      <th></th>\n",
       "      <th>User_ID</th>\n",
       "      <th>Country</th>\n",
       "      <th>University</th>\n",
       "      <th>Qualification</th>\n",
       "      <th>Discipline</th>\n",
       "      <th>GPA</th>\n",
       "    </tr>\n",
       "  </thead>\n",
       "  <tbody>\n",
       "    <tr>\n",
       "      <th>0</th>\n",
       "      <td>1.0</td>\n",
       "      <td>canada</td>\n",
       "      <td>college</td>\n",
       "      <td>diploma</td>\n",
       "      <td>computer programmer</td>\n",
       "      <td>90</td>\n",
       "    </tr>\n",
       "    <tr>\n",
       "      <th>1</th>\n",
       "      <td>2.0</td>\n",
       "      <td>India</td>\n",
       "      <td>LPS</td>\n",
       "      <td>School</td>\n",
       "      <td>Computer Science</td>\n",
       "      <td>85</td>\n",
       "    </tr>\n",
       "    <tr>\n",
       "      <th>2</th>\n",
       "      <td>3.0</td>\n",
       "      <td>nigeria</td>\n",
       "      <td>crutech crossriver</td>\n",
       "      <td>bsc</td>\n",
       "      <td>electrical/electronic engineering</td>\n",
       "      <td>3.56</td>\n",
       "    </tr>\n",
       "    <tr>\n",
       "      <th>3</th>\n",
       "      <td>4.0</td>\n",
       "      <td>Indonesia</td>\n",
       "      <td>Lampung University</td>\n",
       "      <td>Bachelor</td>\n",
       "      <td>Computer Science</td>\n",
       "      <td>3,55</td>\n",
       "    </tr>\n",
       "    <tr>\n",
       "      <th>4</th>\n",
       "      <td>5.0</td>\n",
       "      <td>United states</td>\n",
       "      <td>Ohio university southern</td>\n",
       "      <td>freshman</td>\n",
       "      <td>undecided</td>\n",
       "      <td>2.5</td>\n",
       "    </tr>\n",
       "  </tbody>\n",
       "</table>\n",
       "</div>"
      ],
      "text/plain": [
       "   User_ID         Country                 University Qualification  \\\n",
       "0      1.0          canada                    college       diploma   \n",
       "1      2.0           India                        LPS        School   \n",
       "2      3.0         nigeria        crutech crossriver            bsc   \n",
       "3      4.0       Indonesia         Lampung University      Bachelor   \n",
       "4      5.0  United states   Ohio university southern      freshman    \n",
       "\n",
       "                           Discipline   GPA  \n",
       "0                computer programmer     90  \n",
       "1                    Computer Science    85  \n",
       "2  electrical/electronic engineering   3.56  \n",
       "3                    Computer Science  3,55  \n",
       "4                          undecided    2.5  "
      ]
     },
     "execution_count": 4,
     "metadata": {},
     "output_type": "execute_result"
    }
   ],
   "source": [
    "data.head()"
   ]
  },
  {
   "cell_type": "code",
   "execution_count": 5,
   "metadata": {},
   "outputs": [
    {
     "name": "stdout",
     "output_type": "stream",
     "text": [
      "<class 'pandas.core.frame.DataFrame'>\n",
      "RangeIndex: 5872 entries, 0 to 5871\n",
      "Data columns (total 6 columns):\n",
      "User_ID          1702 non-null float64\n",
      "Country          5863 non-null object\n",
      "University       5837 non-null object\n",
      "Qualification    5850 non-null object\n",
      "Discipline       5846 non-null object\n",
      "GPA              5840 non-null object\n",
      "dtypes: float64(1), object(5)\n",
      "memory usage: 275.3+ KB\n"
     ]
    }
   ],
   "source": [
    "data.info()"
   ]
  },
  {
   "cell_type": "code",
   "execution_count": 6,
   "metadata": {},
   "outputs": [
    {
     "name": "stdout",
     "output_type": "stream",
     "text": [
      "(5872, 6)\n"
     ]
    }
   ],
   "source": [
    "# data.drop(\"User_ID\", axis=1, inplace=True)\n",
    "print(data.shape)\n",
    "data.dropna(axis=0, inplace=True)"
   ]
  },
  {
   "cell_type": "code",
   "execution_count": 7,
   "metadata": {},
   "outputs": [
    {
     "name": "stdout",
     "output_type": "stream",
     "text": [
      "<class 'pandas.core.frame.DataFrame'>\n",
      "Int64Index: 1676 entries, 0 to 1701\n",
      "Data columns (total 6 columns):\n",
      "User_ID          1676 non-null float64\n",
      "Country          1676 non-null object\n",
      "University       1676 non-null object\n",
      "Qualification    1676 non-null object\n",
      "Discipline       1676 non-null object\n",
      "GPA              1676 non-null object\n",
      "dtypes: float64(1), object(5)\n",
      "memory usage: 91.7+ KB\n"
     ]
    }
   ],
   "source": [
    "data.info()"
   ]
  },
  {
   "cell_type": "code",
   "execution_count": 8,
   "metadata": {},
   "outputs": [],
   "source": [
    "data = data.apply(lambda x: x.astype(str).str.lower())\n",
    "data = data.apply(lambda x: x.astype(str).str.strip())"
   ]
  },
  {
   "cell_type": "code",
   "execution_count": 9,
   "metadata": {},
   "outputs": [],
   "source": [
    "oppurtunity = pd.read_excel(\"Opportunity Dataset.xlsx\")"
   ]
  },
  {
   "cell_type": "code",
   "execution_count": 10,
   "metadata": {},
   "outputs": [],
   "source": [
    "oppurtunity.head()\n",
    "oppurtunity = oppurtunity.apply(lambda x: x.astype(str).str.lower())\n",
    "oppurtunity = oppurtunity.apply(lambda x: x.astype(str).str.strip())"
   ]
  },
  {
   "cell_type": "code",
   "execution_count": 11,
   "metadata": {},
   "outputs": [
    {
     "data": {
      "text/plain": [
       "nan                                         3403\n",
       "fully funded                                1057\n",
       "none                                         522\n",
       "partially funded                             511\n",
       "full funded                                    2\n",
       "partial scholarship                            1\n",
       "full funding                                   1\n",
       "fullly funded                                  1\n",
       "partially funde                                1\n",
       "£25 for students, £100 for professionals       1\n",
       "Name: Funding, dtype: int64"
      ]
     },
     "execution_count": 11,
     "metadata": {},
     "output_type": "execute_result"
    }
   ],
   "source": [
    "oppurtunity[\"Funding\"].fillna(\"none\",inplace=True)\n",
    "oppurtunity[\"Funding\"].value_counts()"
   ]
  },
  {
   "cell_type": "code",
   "execution_count": 12,
   "metadata": {},
   "outputs": [
    {
     "data": {
      "text/plain": [
       "nan                                                                                                                                                                                                          2893\n",
       "none                                                                                                                                                                                                          107\n",
       "photography                                                                                                                                                                                                    97\n",
       "admissions                                                                                                                                                                                                     42\n",
       "economics                                                                                                                                                                                                      32\n",
       "law                                                                                                                                                                                                            30\n",
       "journalism                                                                                                                                                                                                     29\n",
       "environment                                                                                                                                                                                                    26\n",
       "art                                                                                                                                                                                                            23\n",
       "poetry                                                                                                                                                                                                         22\n",
       "article                                                                                                                                                                                                        22\n",
       "human rights, law                                                                                                                                                                                              20\n",
       "social science                                                                                                                                                                                                 20\n",
       "un                                                                                                                                                                                                             18\n",
       "research                                                                                                                                                                                                       18\n",
       "finance                                                                                                                                                                                                        17\n",
       "biology                                                                                                                                                                                                        15\n",
       "oxford university                                                                                                                                                                                              14\n",
       "unesco                                                                                                                                                                                                         13\n",
       "health and medicine                                                                                                                                                                                            13\n",
       "education                                                                                                                                                                                                      12\n",
       "business                                                                                                                                                                                                       12\n",
       "economic                                                                                                                                                                                                       11\n",
       "history                                                                                                                                                                                                        11\n",
       "university of edinburgh                                                                                                                                                                                         9\n",
       "harvard university                                                                                                                                                                                              9\n",
       "marketing                                                                                                                                                                                                       9\n",
       "media                                                                                                                                                                                                           9\n",
       "startups                                                                                                                                                                                                        9\n",
       "who                                                                                                                                                                                                             9\n",
       "                                                                                                                                                                                                             ... \n",
       "climate change                                                                                                                                                                                                  1\n",
       "univeristy of oxford                                                                                                                                                                                            1\n",
       "sustainable energy                                                                                                                                                                                              1\n",
       "european parliament                                                                                                                                                                                             1\n",
       "commonwealth foundation                                                                                                                                                                                         1\n",
       "prize                                                                                                                                                                                                           1\n",
       "asian studies, humanities, social sciences                                                                                                                                                                      1\n",
       "art history, culture, heritage studies, history, humanities, social sciences                                                                                                                                    1\n",
       "osf eurasia                                                                                                                                                                                                     1\n",
       "african writers trust                                                                                                                                                                                           1\n",
       "history, jewish studies                                                                                                                                                                                         1\n",
       "african study center                                                                                                                                                                                            1\n",
       "international mathematics union                                                                                                                                                                                 1\n",
       "arts, asianstudies, culture, history, literature                                                                                                                                                                1\n",
       "communication studies, computer engineering, computer sciences, electronics, engineering, software engineering, technology                                                                                      1\n",
       "dartmouth college                                                                                                                                                                                               1\n",
       "loreal                                                                                                                                                                                                          1\n",
       "anthropology, digital humanities , economics, gender studies, geography, history, humanities, international relations, law, philosophy, political sciences, religious studies, social sciences, sociology       1\n",
       "politics, tana forum annual university                                                                                                                                                                          1\n",
       "danish refugee council                                                                                                                                                                                          1\n",
       "arts, culture                                                                                                                                                                                                   1\n",
       "armenian genocide, armenian studies, genocide, history, humanities, middle eastern studies, socialsciences, turkishstudies                                                                                      1\n",
       "democracy studies, human rights, law,                                                                                                                                                                           1\n",
       "seoul national university                                                                                                                                                                                       1\n",
       "life science,biodiversity                                                                                                                                                                                       1\n",
       "gender rights                                                                                                                                                                                                   1\n",
       "politics, international cooperative alliance                                                                                                                                                                    1\n",
       "fortis                                                                                                                                                                                                          1\n",
       "cargo                                                                                                                                                                                                           1\n",
       "aif                                                                                                                                                                                                             1\n",
       "Name: Sub tags, Length: 1147, dtype: int64"
      ]
     },
     "execution_count": 12,
     "metadata": {},
     "output_type": "execute_result"
    }
   ],
   "source": [
    "oppurtunity[\"Sub tags\"].fillna(\"none\",inplace=True)\n",
    "oppurtunity[\"Sub tags\"].value_counts()"
   ]
  },
  {
   "cell_type": "code",
   "execution_count": 13,
   "metadata": {},
   "outputs": [
    {
     "data": {
      "text/plain": [
       "ID                                                                                        2\n",
       "Headline                                   city of dreams pavilion 2020: call for proposals\n",
       "Description                               the current state of the world is such that bo...\n",
       "Funding                                                                                 nan\n",
       "Deadline                                                                2019-09-15 00:00:00\n",
       "Type of opportunity                                                             conferences\n",
       "Sub tags                                                                                nan\n",
       "Discipline                                                       engineering and technology\n",
       "Minimum Qualification / Applicable for                                              masters\n",
       "Countries eligible                                                                      all\n",
       "Location of opportunity                                                                 usa\n",
       "Name: 1, dtype: object"
      ]
     },
     "execution_count": 13,
     "metadata": {},
     "output_type": "execute_result"
    }
   ],
   "source": [
    "oppurtunity.iloc[1]"
   ]
  },
  {
   "cell_type": "code",
   "execution_count": 14,
   "metadata": {},
   "outputs": [
    {
     "data": {
      "text/plain": [
       "User_ID                       2.0\n",
       "Country                     india\n",
       "University                    lps\n",
       "Qualification              school\n",
       "Discipline       computer science\n",
       "GPA                            85\n",
       "Name: 1, dtype: object"
      ]
     },
     "execution_count": 14,
     "metadata": {},
     "output_type": "execute_result"
    }
   ],
   "source": [
    "data.iloc[1]"
   ]
  },
  {
   "cell_type": "code",
   "execution_count": 15,
   "metadata": {},
   "outputs": [
    {
     "data": {
      "text/plain": [
       "'computer science'"
      ]
     },
     "execution_count": 15,
     "metadata": {},
     "output_type": "execute_result"
    }
   ],
   "source": [
    "data.iloc[3][4]"
   ]
  },
  {
   "cell_type": "code",
   "execution_count": 16,
   "metadata": {},
   "outputs": [],
   "source": [
    "embeddings_dict = {}\n",
    "with open(\"glove.6B.50d.txt\", 'r') as f:\n",
    "    for line in f:\n",
    "        values = line.split()\n",
    "        word = values[0]\n",
    "        vector = np.asarray(values[1:], \"float32\")\n",
    "        embeddings_dict[word] = vector"
   ]
  },
  {
   "cell_type": "code",
   "execution_count": 17,
   "metadata": {},
   "outputs": [],
   "source": [
    "def similarity_func(words1,words2):\n",
    "    words1 = words1.lower()\n",
    "    words1 = words1.split(\" \")\n",
    "    words2 = words2.lower()\n",
    "    words2 = words2.split(\" \")    \n",
    "    words1vec=0\n",
    "    words2vec=0\n",
    "    for word in words1:\n",
    "            pass\n",
    "    return pairwise.cosine_similarity(words1vec.reshape(-1, 1),words2vec.reshape(-1, 1))\n",
    "    \n",
    "# similarity_func(oppurtunity.iloc[1][3],oppurtunity.iloc[1][3])"
   ]
  },
  {
   "cell_type": "code",
   "execution_count": 18,
   "metadata": {},
   "outputs": [
    {
     "data": {
      "text/plain": [
       "User_ID                            11.0\n",
       "Country                              ca\n",
       "University       american river college\n",
       "Qualification                    junior\n",
       "Discipline                    sociology\n",
       "GPA                                 2.8\n",
       "Name: 10, dtype: object"
      ]
     },
     "execution_count": 18,
     "metadata": {},
     "output_type": "execute_result"
    }
   ],
   "source": [
    "data.iloc[10]"
   ]
  },
  {
   "cell_type": "code",
   "execution_count": 19,
   "metadata": {},
   "outputs": [
    {
     "name": "stdout",
     "output_type": "stream",
     "text": [
      "11.0\n",
      "sociology\n"
     ]
    },
    {
     "data": {
      "text/html": [
       "<div>\n",
       "<style scoped>\n",
       "    .dataframe tbody tr th:only-of-type {\n",
       "        vertical-align: middle;\n",
       "    }\n",
       "\n",
       "    .dataframe tbody tr th {\n",
       "        vertical-align: top;\n",
       "    }\n",
       "\n",
       "    .dataframe thead th {\n",
       "        text-align: right;\n",
       "    }\n",
       "</style>\n",
       "<table border=\"1\" class=\"dataframe\">\n",
       "  <thead>\n",
       "    <tr style=\"text-align: right;\">\n",
       "      <th></th>\n",
       "      <th>ID</th>\n",
       "      <th>Headline</th>\n",
       "      <th>Description</th>\n",
       "      <th>Funding</th>\n",
       "      <th>Deadline</th>\n",
       "      <th>Type of opportunity</th>\n",
       "      <th>Sub tags</th>\n",
       "      <th>Discipline</th>\n",
       "      <th>Minimum Qualification / Applicable for</th>\n",
       "      <th>Countries eligible</th>\n",
       "      <th>Location of opportunity</th>\n",
       "    </tr>\n",
       "  </thead>\n",
       "  <tbody>\n",
       "    <tr>\n",
       "      <th>5487</th>\n",
       "      <td>5488</td>\n",
       "      <td>shanghai government scholarships in china</td>\n",
       "      <td>dhu has been appointed to accept international...</td>\n",
       "      <td>fully funded</td>\n",
       "      <td>2020-03-31 00:00:00</td>\n",
       "      <td>scholarships, fellowships</td>\n",
       "      <td>admissions</td>\n",
       "      <td>all</td>\n",
       "      <td>schools</td>\n",
       "      <td>all</td>\n",
       "      <td>china</td>\n",
       "    </tr>\n",
       "    <tr>\n",
       "      <th>5488</th>\n",
       "      <td>5489</td>\n",
       "      <td>general scholars program 2020 in china</td>\n",
       "      <td>the applications for the funded general schola...</td>\n",
       "      <td>fully funded</td>\n",
       "      <td>nan</td>\n",
       "      <td>scholarships, fellowships</td>\n",
       "      <td>admissions</td>\n",
       "      <td>all</td>\n",
       "      <td>bachelors</td>\n",
       "      <td>algeriaangolabeninbotswanaburkina fasoburundic...</td>\n",
       "      <td>china</td>\n",
       "    </tr>\n",
       "    <tr>\n",
       "      <th>5489</th>\n",
       "      <td>5490</td>\n",
       "      <td>university of sussex chancellor international ...</td>\n",
       "      <td>the applications for the funded international ...</td>\n",
       "      <td>nan</td>\n",
       "      <td>2020-05-01 00:00:00</td>\n",
       "      <td>scholarships, fellowships</td>\n",
       "      <td>university of sussex</td>\n",
       "      <td>all</td>\n",
       "      <td>bachelors</td>\n",
       "      <td>all</td>\n",
       "      <td>united kingdom</td>\n",
       "    </tr>\n",
       "    <tr>\n",
       "      <th>5490</th>\n",
       "      <td>5491</td>\n",
       "      <td>scholarships for international students at uni...</td>\n",
       "      <td>scholarships for international students are av...</td>\n",
       "      <td>nan</td>\n",
       "      <td>2020-03-30 00:00:00</td>\n",
       "      <td>scholarships, fellowships</td>\n",
       "      <td>university of pittsburgh</td>\n",
       "      <td>all</td>\n",
       "      <td>schools</td>\n",
       "      <td>all</td>\n",
       "      <td>usa</td>\n",
       "    </tr>\n",
       "    <tr>\n",
       "      <th>5495</th>\n",
       "      <td>5496</td>\n",
       "      <td>scholarships of the week.</td>\n",
       "      <td>fully funded chinese government scholarshipchi...</td>\n",
       "      <td>nan</td>\n",
       "      <td>2020-04-24 00:00:00</td>\n",
       "      <td>scholarships, fellowships</td>\n",
       "      <td>nan</td>\n",
       "      <td>all</td>\n",
       "      <td>schools</td>\n",
       "      <td>all</td>\n",
       "      <td>online</td>\n",
       "    </tr>\n",
       "  </tbody>\n",
       "</table>\n",
       "</div>"
      ],
      "text/plain": [
       "        ID                                           Headline  \\\n",
       "5487  5488          shanghai government scholarships in china   \n",
       "5488  5489             general scholars program 2020 in china   \n",
       "5489  5490  university of sussex chancellor international ...   \n",
       "5490  5491  scholarships for international students at uni...   \n",
       "5495  5496                          scholarships of the week.   \n",
       "\n",
       "                                            Description       Funding  \\\n",
       "5487  dhu has been appointed to accept international...  fully funded   \n",
       "5488  the applications for the funded general schola...  fully funded   \n",
       "5489  the applications for the funded international ...           nan   \n",
       "5490  scholarships for international students are av...           nan   \n",
       "5495  fully funded chinese government scholarshipchi...           nan   \n",
       "\n",
       "                 Deadline        Type of opportunity  \\\n",
       "5487  2020-03-31 00:00:00  scholarships, fellowships   \n",
       "5488                  nan  scholarships, fellowships   \n",
       "5489  2020-05-01 00:00:00  scholarships, fellowships   \n",
       "5490  2020-03-30 00:00:00  scholarships, fellowships   \n",
       "5495  2020-04-24 00:00:00  scholarships, fellowships   \n",
       "\n",
       "                      Sub tags Discipline  \\\n",
       "5487                admissions        all   \n",
       "5488                admissions        all   \n",
       "5489      university of sussex        all   \n",
       "5490  university of pittsburgh        all   \n",
       "5495                       nan        all   \n",
       "\n",
       "     Minimum Qualification / Applicable for  \\\n",
       "5487                                schools   \n",
       "5488                              bachelors   \n",
       "5489                              bachelors   \n",
       "5490                                schools   \n",
       "5495                                schools   \n",
       "\n",
       "                                     Countries eligible  \\\n",
       "5487                                                all   \n",
       "5488  algeriaangolabeninbotswanaburkina fasoburundic...   \n",
       "5489                                                all   \n",
       "5490                                                all   \n",
       "5495                                                all   \n",
       "\n",
       "     Location of opportunity  \n",
       "5487                   china  \n",
       "5488                   china  \n",
       "5489          united kingdom  \n",
       "5490                     usa  \n",
       "5495                  online  "
      ]
     },
     "execution_count": 19,
     "metadata": {},
     "output_type": "execute_result"
    }
   ],
   "source": [
    "def NewUserRecommedation(user_id, Country, Qualification, Discipline , oppurtunity):\n",
    "\n",
    "    print(user_id)\n",
    "    ls  = []\n",
    "    print(Discipline.replace(\"and\",\",\").replace(\" \",\",\").strip().lower().split(\",\")[0])\n",
    "    for i in range(len(oppurtunity)):\n",
    "        #print(oppurtunity.iloc[i][9])\n",
    "        confidence = 0\n",
    "        if  oppurtunity.iloc[i][1]=='all' or Country in oppurtunity.iloc[i][1].replace(\"and\",\",\").replace(\" \",\",\").strip().lower().split(\",\"):\n",
    "            confidence+=1\n",
    "#             print(\"c\")\n",
    "        elif  oppurtunity.iloc[i][8]=='all' or Qualification.replace(\"and\",\",\").replace(\" \",\",\").strip().lower().split(\",\")[0] in oppurtunity.iloc[i][8].replace(\"and\",\",\").replace(\" \",\",\").strip().lower().split(\",\"):\n",
    "            confidence+=1\n",
    "#             print(\"Q\")\n",
    "        elif  oppurtunity.iloc[i][7]=='all' or Discipline.replace(\"and\",\",\").replace(\" \",\",\").strip().lower().split(\",\")[0] in oppurtunity.iloc[i][7].replace(\"and\",\",\").replace(\" \",\",\").strip().lower().split(\",\"):\n",
    "            confidence+=1\n",
    "#             print(\"D\")\n",
    "        ls.append([confidence,oppurtunity.iloc[i][:]])\n",
    "    ls.sort(key=lambda x: x[0])\n",
    "    ls = ls[-5:]\n",
    "    return ls\n",
    "\n",
    "\n",
    "\n",
    "user = data.iloc[1,:]\n",
    "i = 10\n",
    "ls = NewUserRecommedation(data.iloc[i][0],data.iloc[i][1],data.iloc[i][3],data.iloc[i][4],oppurtunity)\n",
    "\n",
    "opportRecomm = []\n",
    "for i in ls:\n",
    "    opportRecomm.append(i[1])\n",
    "# print(opportRecomm)\n",
    "# np.unique(ls,return_counts=True)\n",
    "pd.DataFrame(opportRecomm)\n",
    "#return opportunity fully\n"
   ]
  },
  {
   "cell_type": "code",
   "execution_count": null,
   "metadata": {},
   "outputs": [],
   "source": []
  },
  {
   "cell_type": "code",
   "execution_count": null,
   "metadata": {},
   "outputs": [],
   "source": []
  },
  {
   "cell_type": "code",
   "execution_count": null,
   "metadata": {},
   "outputs": [],
   "source": []
  },
  {
   "cell_type": "code",
   "execution_count": 20,
   "metadata": {},
   "outputs": [],
   "source": [
    "#when a user updates its profile by applying for any oppurtunity\n",
    "def updateUserProfile(user1,opportunity1):\n",
    "    \n",
    "    if opportunity1[\"Funding\"] in user1[\"Funding\"]: \n",
    "        user1[\"Funding\"][opportunity1[\"Funding\"]]+=1\n",
    "    else:\n",
    "        user1[\"Funding\"][opportunity1[\"Funding\"]]=1\n",
    "        \n",
    "    if opportunity1[\"Sub tags\"] in user1[\"Sub tags\"]: \n",
    "        user1[\"Sub tags\"][opportunity1[\"Sub tags\"]]+=1\n",
    "    else:\n",
    "        user1[\"Sub tags\"][opportunity1[\"Sub tags\"]]=1\n",
    "        \n",
    "    if opportunity1[\"Location of opportunity\"] in user1[\"Location of opportunity\"]: \n",
    "        user1[\"Location of opportunity\"][opportunity1[\"Location of opportunity\"]]+=1\n",
    "    else:\n",
    "        user1[\"Location of opportunity\"][opportunity1[\"Location of opportunity\"]]=1\n",
    "    \n",
    "    return user1#update user profile in Database\n",
    "\n",
    "#input take user input and oppurtunity\n",
    "#return user profile"
   ]
  },
  {
   "cell_type": "code",
   "execution_count": 21,
   "metadata": {},
   "outputs": [],
   "source": [
    "\n",
    "#input take user profile and all oppurtunities\n",
    "#return recommended oppurtunities"
   ]
  },
  {
   "cell_type": "code",
   "execution_count": null,
   "metadata": {},
   "outputs": [],
   "source": []
  },
  {
   "cell_type": "code",
   "execution_count": 22,
   "metadata": {},
   "outputs": [
    {
     "data": {
      "text/plain": [
       "Index(['User_ID', 'Country', 'University', 'Qualification', 'Discipline',\n",
       "       'GPA'],\n",
       "      dtype='object')"
      ]
     },
     "execution_count": 22,
     "metadata": {},
     "output_type": "execute_result"
    }
   ],
   "source": [
    "data.columns"
   ]
  }
 ],
 "metadata": {
  "kernelspec": {
   "display_name": "Python 3",
   "language": "python",
   "name": "python3"
  },
  "language_info": {
   "codemirror_mode": {
    "name": "ipython",
    "version": 3
   },
   "file_extension": ".py",
   "mimetype": "text/x-python",
   "name": "python",
   "nbconvert_exporter": "python",
   "pygments_lexer": "ipython3",
   "version": "3.6.7"
  }
 },
 "nbformat": 4,
 "nbformat_minor": 2
}
